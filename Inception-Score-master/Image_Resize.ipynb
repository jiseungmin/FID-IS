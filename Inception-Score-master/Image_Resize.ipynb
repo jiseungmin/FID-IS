{
 "cells": [
  {
   "cell_type": "code",
   "execution_count": null,
   "metadata": {},
   "outputs": [],
   "source": [
    "import cv2\n",
    "\n",
    "for i in range(270,279):\n",
    "    img = cv2.imread(\"./Inception-Score-master/TIRE/TIRE/true/({}).png\".format(i))\n",
    "    img = cv2.resize(img, (32,32))\n",
    "    cv2.imwrite(\"\")"
   ]
  }
 ],
 "metadata": {
  "kernelspec": {
   "display_name": "inception",
   "language": "python",
   "name": "python3"
  },
  "language_info": {
   "name": "python",
   "version": "3.7.16"
  },
  "orig_nbformat": 4
 },
 "nbformat": 4,
 "nbformat_minor": 2
}
